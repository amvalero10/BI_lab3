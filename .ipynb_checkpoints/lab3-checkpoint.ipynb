{
 "cells": [
  {
   "cell_type": "markdown",
   "id": "2e908240-20f0-416c-b5da-b7ffd290aab4",
   "metadata": {},
   "source": [
    "<img src=\"./img/banner.png\">"
   ]
  },
  {
   "cell_type": "markdown",
   "id": "a3b526cd-d9b2-4fb7-997f-3498c80768c1",
   "metadata": {},
   "source": [
    "# Laboratorio 3 - AlpesGamesInsight\n",
    "\n",
    "1. Carga y exploración de datos.\n",
    "\n",
    "    1.1. Importación de librerias.\n",
    "    \n",
    "    1.2. Carga de datos.\n",
    "    \n",
    "    1.3. Exploración.\n",
    "    \n",
    "2. Limpieza y preparación de los datos.\n",
    "\n",
    "    2.1. Tipo adecuado de cada atributo.\n",
    "    \n",
    "    2.2. Selección de atributos.\n",
    "    \n",
    "3. Clasificadores."
   ]
  },
  {
   "cell_type": "markdown",
   "id": "433db990-9351-4eae-af18-55b60eb6b03e",
   "metadata": {},
   "source": [
    "## 1. Carga y exploración de datos."
   ]
  },
  {
   "cell_type": "markdown",
   "id": "e02fd3e1-a9d0-40db-b129-97f833cd75a0",
   "metadata": {},
   "source": [
    "### 1.1. Importación de librerias."
   ]
  },
  {
   "cell_type": "code",
   "execution_count": 138,
   "id": "a93c4db9-b472-412b-a2ec-083be75e0665",
   "metadata": {},
   "outputs": [],
   "source": [
    "# Librerías para manejo de datos\n",
    "import pandas as pd\n",
    "import numpy as np\n",
    "\n",
    "# modelos\n",
    "\n",
    "#Librerías para la visualización\n",
    "import matplotlib.pyplot as plt\n",
    "import seaborn as sns; sns.set()\n",
    "\n",
    "import warnings\n",
    "warnings.filterwarnings('ignore')\n",
    "\n",
    "%matplotlib inline\n",
    "\n"
   ]
  },
  {
   "cell_type": "markdown",
   "id": "847131ca-9a78-41b5-8803-81a98bbcf50a",
   "metadata": {},
   "source": [
    "### 1.2. Carga de datos."
   ]
  },
  {
   "cell_type": "code",
   "execution_count": 139,
   "id": "20648e8f-2071-4742-82d6-ba05982086b4",
   "metadata": {},
   "outputs": [],
   "source": [
    "# carga de los datos\n",
    "# csv -> dataFrame\n",
    "df_players = pd.read_csv('./data/SkillCraftHistoric.csv', sep=',', encoding = 'utf-8' )"
   ]
  },
  {
   "cell_type": "markdown",
   "id": "87685131-da45-4073-a3a1-c4ab19c14100",
   "metadata": {},
   "source": [
    "### 1.3. Exploración."
   ]
  },
  {
   "cell_type": "code",
   "execution_count": 140,
   "id": "c83c8170-1ffc-4190-b5a5-73f97e2470e3",
   "metadata": {},
   "outputs": [
    {
     "data": {
      "text/plain": [
       "(3238, 19)"
      ]
     },
     "execution_count": 140,
     "metadata": {},
     "output_type": "execute_result"
    }
   ],
   "source": [
    "#cantidad de datos y numero de variables\n",
    "df_players.shape"
   ]
  },
  {
   "cell_type": "code",
   "execution_count": 141,
   "id": "be6fb485-2539-4baf-b2e3-3402d746ca53",
   "metadata": {},
   "outputs": [
    {
     "data": {
      "text/html": [
       "<div>\n",
       "<style scoped>\n",
       "    .dataframe tbody tr th:only-of-type {\n",
       "        vertical-align: middle;\n",
       "    }\n",
       "\n",
       "    .dataframe tbody tr th {\n",
       "        vertical-align: top;\n",
       "    }\n",
       "\n",
       "    .dataframe thead th {\n",
       "        text-align: right;\n",
       "    }\n",
       "</style>\n",
       "<table border=\"1\" class=\"dataframe\">\n",
       "  <thead>\n",
       "    <tr style=\"text-align: right;\">\n",
       "      <th></th>\n",
       "      <th>LeagueIndex</th>\n",
       "      <th>Age</th>\n",
       "      <th>HoursPerWeek</th>\n",
       "      <th>TotalHours</th>\n",
       "      <th>APM</th>\n",
       "      <th>SelectByHotkeys</th>\n",
       "      <th>AssignToHotkeys</th>\n",
       "      <th>UniqueHotkeys</th>\n",
       "      <th>MinimapAttacks</th>\n",
       "      <th>MinimapRightClicks</th>\n",
       "      <th>NumberOfPACs</th>\n",
       "      <th>GapBetweenPACs</th>\n",
       "      <th>ActionLatency</th>\n",
       "      <th>ActionsInPAC</th>\n",
       "      <th>TotalMapExplored</th>\n",
       "      <th>WorkersMade</th>\n",
       "      <th>UniqueUnitsMade</th>\n",
       "      <th>ComplexUnitsMade</th>\n",
       "      <th>ComplexAbilitiesUsed</th>\n",
       "    </tr>\n",
       "  </thead>\n",
       "  <tbody>\n",
       "    <tr>\n",
       "      <th>1108</th>\n",
       "      <td>4.981284</td>\n",
       "      <td>16</td>\n",
       "      <td>28</td>\n",
       "      <td>500</td>\n",
       "      <td>102.8232</td>\n",
       "      <td>0.0038156918</td>\n",
       "      <td>0.0003506311</td>\n",
       "      <td>6</td>\n",
       "      <td>0.0</td>\n",
       "      <td>0.0007218876</td>\n",
       "      <td>0.002929</td>\n",
       "      <td>32.3121</td>\n",
       "      <td>62.507</td>\n",
       "      <td>5.3380</td>\n",
       "      <td>17</td>\n",
       "      <td>0.002372</td>\n",
       "      <td>6</td>\n",
       "      <td>0.0</td>\n",
       "      <td>0.0002475</td>\n",
       "    </tr>\n",
       "    <tr>\n",
       "      <th>645</th>\n",
       "      <td>7.319409</td>\n",
       "      <td>20</td>\n",
       "      <td>14</td>\n",
       "      <td>1000</td>\n",
       "      <td>96.897</td>\n",
       "      <td>0.0023232658</td>\n",
       "      <td>0.0005096961</td>\n",
       "      <td>3</td>\n",
       "      <td>0.0002252145</td>\n",
       "      <td>0.0004385757</td>\n",
       "      <td>0.004386</td>\n",
       "      <td>23.1545</td>\n",
       "      <td>54.0865</td>\n",
       "      <td>3.7027</td>\n",
       "      <td>26</td>\n",
       "      <td>0.000782</td>\n",
       "      <td>6</td>\n",
       "      <td>0.0</td>\n",
       "      <td>0.00055711</td>\n",
       "    </tr>\n",
       "    <tr>\n",
       "      <th>762</th>\n",
       "      <td>6.926428</td>\n",
       "      <td>29</td>\n",
       "      <td>28</td>\n",
       "      <td>900</td>\n",
       "      <td>99.1128</td>\n",
       "      <td>0.0013613968</td>\n",
       "      <td>0.0002160947</td>\n",
       "      <td>3</td>\n",
       "      <td>0.0001080474</td>\n",
       "      <td>0.0005402368</td>\n",
       "      <td>0.003198</td>\n",
       "      <td>27.2653</td>\n",
       "      <td>51.4865</td>\n",
       "      <td>5.3919</td>\n",
       "      <td>15</td>\n",
       "      <td>0.001253</td>\n",
       "      <td>4</td>\n",
       "      <td>0.0</td>\n",
       "      <td>6.4828e-05</td>\n",
       "    </tr>\n",
       "    <tr>\n",
       "      <th>1038</th>\n",
       "      <td>8.233072</td>\n",
       "      <td>26</td>\n",
       "      <td>8</td>\n",
       "      <td>300</td>\n",
       "      <td>120.1956</td>\n",
       "      <td>0.0017121163</td>\n",
       "      <td>0.0003659959</td>\n",
       "      <td>6</td>\n",
       "      <td>0.0001240664</td>\n",
       "      <td>0.0002729461</td>\n",
       "      <td>0.005837</td>\n",
       "      <td>30.6936</td>\n",
       "      <td>43.3539</td>\n",
       "      <td>3.5569</td>\n",
       "      <td>30</td>\n",
       "      <td>0.000614</td>\n",
       "      <td>6</td>\n",
       "      <td>0.0</td>\n",
       "      <td>0.0</td>\n",
       "    </tr>\n",
       "    <tr>\n",
       "      <th>2506</th>\n",
       "      <td>6.485713</td>\n",
       "      <td>20</td>\n",
       "      <td>48</td>\n",
       "      <td>2000</td>\n",
       "      <td>91.3914</td>\n",
       "      <td>0.0005017912</td>\n",
       "      <td>0.0001143322</td>\n",
       "      <td>4</td>\n",
       "      <td>1.27035747859448e-05</td>\n",
       "      <td>0.0002286643</td>\n",
       "      <td>0.003900</td>\n",
       "      <td>41.5269</td>\n",
       "      <td>52.7687</td>\n",
       "      <td>4.3355</td>\n",
       "      <td>40</td>\n",
       "      <td>0.000743</td>\n",
       "      <td>8</td>\n",
       "      <td>0.0</td>\n",
       "      <td>2.5407e-05</td>\n",
       "    </tr>\n",
       "  </tbody>\n",
       "</table>\n",
       "</div>"
      ],
      "text/plain": [
       "      LeagueIndex Age HoursPerWeek TotalHours       APM SelectByHotkeys  \\\n",
       "1108     4.981284  16           28        500  102.8232    0.0038156918   \n",
       "645      7.319409  20           14       1000    96.897    0.0023232658   \n",
       "762      6.926428  29           28        900   99.1128    0.0013613968   \n",
       "1038     8.233072  26            8        300  120.1956    0.0017121163   \n",
       "2506     6.485713  20           48       2000   91.3914    0.0005017912   \n",
       "\n",
       "     AssignToHotkeys UniqueHotkeys        MinimapAttacks MinimapRightClicks  \\\n",
       "1108    0.0003506311             6                   0.0       0.0007218876   \n",
       "645     0.0005096961             3          0.0002252145       0.0004385757   \n",
       "762     0.0002160947             3          0.0001080474       0.0005402368   \n",
       "1038    0.0003659959             6          0.0001240664       0.0002729461   \n",
       "2506    0.0001143322             4  1.27035747859448e-05       0.0002286643   \n",
       "\n",
       "      NumberOfPACs GapBetweenPACs ActionLatency  ActionsInPAC  \\\n",
       "1108      0.002929        32.3121        62.507        5.3380   \n",
       "645       0.004386        23.1545       54.0865        3.7027   \n",
       "762       0.003198        27.2653       51.4865        5.3919   \n",
       "1038      0.005837        30.6936       43.3539        3.5569   \n",
       "2506      0.003900        41.5269       52.7687        4.3355   \n",
       "\n",
       "     TotalMapExplored  WorkersMade UniqueUnitsMade ComplexUnitsMade  \\\n",
       "1108               17     0.002372               6              0.0   \n",
       "645                26     0.000782               6              0.0   \n",
       "762                15     0.001253               4              0.0   \n",
       "1038               30     0.000614               6              0.0   \n",
       "2506               40     0.000743               8              0.0   \n",
       "\n",
       "     ComplexAbilitiesUsed  \n",
       "1108            0.0002475  \n",
       "645            0.00055711  \n",
       "762            6.4828e-05  \n",
       "1038                  0.0  \n",
       "2506           2.5407e-05  "
      ]
     },
     "execution_count": 141,
     "metadata": {},
     "output_type": "execute_result"
    }
   ],
   "source": [
    "# mostrar 5 filas al azar\n",
    "df_players.sample(5)"
   ]
  },
  {
   "cell_type": "code",
   "execution_count": 142,
   "id": "891d469d-70b5-43d1-b34e-877da08ef65f",
   "metadata": {},
   "outputs": [
    {
     "data": {
      "text/plain": [
       "LeagueIndex             float64\n",
       "Age                      object\n",
       "HoursPerWeek             object\n",
       "TotalHours               object\n",
       "APM                      object\n",
       "SelectByHotkeys          object\n",
       "AssignToHotkeys          object\n",
       "UniqueHotkeys            object\n",
       "MinimapAttacks           object\n",
       "MinimapRightClicks       object\n",
       "NumberOfPACs            float64\n",
       "GapBetweenPACs           object\n",
       "ActionLatency            object\n",
       "ActionsInPAC            float64\n",
       "TotalMapExplored         object\n",
       "WorkersMade             float64\n",
       "UniqueUnitsMade          object\n",
       "ComplexUnitsMade         object\n",
       "ComplexAbilitiesUsed     object\n",
       "dtype: object"
      ]
     },
     "execution_count": 142,
     "metadata": {},
     "output_type": "execute_result"
    }
   ],
   "source": [
    "# ver todos los tipos de variables \n",
    "df_players.dtypes"
   ]
  },
  {
   "cell_type": "code",
   "execution_count": 143,
   "id": "63c1ccb4-e68b-41ce-bde5-f0be3de14db4",
   "metadata": {},
   "outputs": [
    {
     "data": {
      "text/plain": [
       "LeagueIndex             0\n",
       "Age                     0\n",
       "HoursPerWeek            0\n",
       "TotalHours              0\n",
       "APM                     0\n",
       "SelectByHotkeys         0\n",
       "AssignToHotkeys         0\n",
       "UniqueHotkeys           0\n",
       "MinimapAttacks          0\n",
       "MinimapRightClicks      0\n",
       "NumberOfPACs            0\n",
       "GapBetweenPACs          0\n",
       "ActionLatency           0\n",
       "ActionsInPAC            0\n",
       "TotalMapExplored        0\n",
       "WorkersMade             0\n",
       "UniqueUnitsMade         0\n",
       "ComplexUnitsMade        0\n",
       "ComplexAbilitiesUsed    0\n",
       "dtype: int64"
      ]
     },
     "execution_count": 143,
     "metadata": {},
     "output_type": "execute_result"
    }
   ],
   "source": [
    "#cantidad de datos nulos\n",
    "df_players.isnull().sum()"
   ]
  },
  {
   "cell_type": "markdown",
   "id": "4019ac56-57b0-4644-bff1-b2491ddc4ea2",
   "metadata": {},
   "source": [
    "No hay datos nulos."
   ]
  },
  {
   "cell_type": "markdown",
   "id": "c5cf5634-616c-4846-bb3a-7068d8e21509",
   "metadata": {},
   "source": [
    "## 2. Limpieza y preparación de los datos."
   ]
  },
  {
   "cell_type": "markdown",
   "id": "e2caf315-7363-4164-afad-912eac02b033",
   "metadata": {},
   "source": [
    "### 2.1. Tipo adecuado de cada atributo."
   ]
  },
  {
   "cell_type": "markdown",
   "id": "7c63e948-5c95-452a-8dad-5e34150a3d5e",
   "metadata": {},
   "source": [
    "Al limpiar la columna **Age**, encontramos que tiene el valor *NA-VALUE*, entonces lo cambiaremos por la moda de la columna"
   ]
  },
  {
   "cell_type": "code",
   "execution_count": 144,
   "id": "be7150d4-1a4b-4e21-bf98-0246182ee79f",
   "metadata": {},
   "outputs": [],
   "source": [
    "df_players.Age = df_players.Age.replace({'NA-VALUE':0})\n",
    "df_players['Age'] = df_players.Age.astype(int)"
   ]
  },
  {
   "cell_type": "code",
   "execution_count": 145,
   "id": "34408677-d5ce-4029-b991-345060324c16",
   "metadata": {},
   "outputs": [
    {
     "data": {
      "text/plain": [
       "count    3238.000000\n",
       "mean       21.664299\n",
       "std         4.234262\n",
       "min        16.000000\n",
       "25%        19.000000\n",
       "50%        21.000000\n",
       "75%        24.000000\n",
       "max        44.000000\n",
       "Name: Age, dtype: float64"
      ]
     },
     "execution_count": 145,
     "metadata": {},
     "output_type": "execute_result"
    }
   ],
   "source": [
    "modEdad = df_players['Age'].mode()[0]\n",
    "df_players.Age = df_players.Age.replace({0:modEdad})\n",
    "df_players['Age'].describe()"
   ]
  },
  {
   "cell_type": "markdown",
   "id": "b884dd99-d4c7-49c4-9f7d-cfad25061cf1",
   "metadata": {},
   "source": [
    "Ahora para la columna *HoursPerWeek*  encontramos que tiene el valor NA-VALUE, entonces lo cambiaremos por la media de la columna"
   ]
  },
  {
   "cell_type": "code",
   "execution_count": 146,
   "id": "ebde3be3-60b4-4439-90f9-53243d2d3f72",
   "metadata": {},
   "outputs": [],
   "source": [
    "# identificamos el index de la fila con el caracter erroneo\n",
    "indexRaro = df_players[df_players['HoursPerWeek'].str.contains('NA-VALUE')].index[0]\n",
    "\n",
    "# remplazamos el valor por 0\n",
    "df_players.HoursPerWeek = df_players.HoursPerWeek.replace({'NA-VALUE':0})\n",
    "\n",
    "df_players['HoursPerWeek'] = df_players.HoursPerWeek.astype(int) #convertimos la columna en entero"
   ]
  },
  {
   "cell_type": "code",
   "execution_count": 147,
   "id": "22bad3d7-2c6e-4c5c-9e5c-b8adc187d9a0",
   "metadata": {},
   "outputs": [
    {
     "data": {
      "text/plain": [
       "count    3238.000000\n",
       "mean       15.977455\n",
       "std        12.069915\n",
       "min         0.000000\n",
       "25%         8.000000\n",
       "50%        12.000000\n",
       "75%        20.000000\n",
       "max       168.000000\n",
       "Name: HoursPerWeek, dtype: float64"
      ]
     },
     "execution_count": 147,
     "metadata": {},
     "output_type": "execute_result"
    }
   ],
   "source": [
    "HoursPerWeek_media = int(df_players['HoursPerWeek'].mean())\n",
    "df_players.loc[indexRaro,'HoursPerWeek'] = HoursPerWeek_media \n",
    "df_players['HoursPerWeek'].describe()"
   ]
  },
  {
   "cell_type": "markdown",
   "id": "c4027d76-3b6c-4e9f-9681-6800f1b373f2",
   "metadata": {},
   "source": [
    "Ahora para la columna de **TotalHours** encontramos el mismo  valor de NA-VALUE, entonces lo cambiaremos por la media de la columna"
   ]
  },
  {
   "cell_type": "code",
   "execution_count": 148,
   "id": "f4ccc3de-6f9e-4338-9b43-8fd953b35ab5",
   "metadata": {},
   "outputs": [
    {
     "data": {
      "text/plain": [
       "count       3238.000000\n",
       "mean         974.513280\n",
       "std        17583.288892\n",
       "min            3.000000\n",
       "25%          300.000000\n",
       "50%          500.000000\n",
       "75%          800.000000\n",
       "max      1000000.000000\n",
       "Name: TotalHours, dtype: float64"
      ]
     },
     "execution_count": 148,
     "metadata": {},
     "output_type": "execute_result"
    }
   ],
   "source": [
    "# identificamos el index de la fila con el caracter erroneo\n",
    "indexRaro = df_players[df_players['TotalHours'].str.contains('NA-VALUE')].index[0]\n",
    "\n",
    "# remplazamos el valor por 0\n",
    "df_players.TotalHours = df_players.TotalHours.replace({'NA-VALUE':0})\n",
    "\n",
    "df_players['TotalHours'] = df_players.TotalHours.astype(int) #convertimos la columna en entero\n",
    "\n",
    "TotalHours_media = int(df_players['TotalHours'].mean())# media de la columna\n",
    "\n",
    "df_players.loc[indexRaro,'TotalHours'] = TotalHours_media \n",
    "df_players['TotalHours'].describe()"
   ]
  },
  {
   "cell_type": "markdown",
   "id": "c557766f-1ab8-4ffc-8d2a-b6b3cedd87ee",
   "metadata": {},
   "source": [
    "Ahora para la columna de **APM** encontramos el mismo valor de NA-VALUE, entonces lo cambiaremos por la media de la columna"
   ]
  },
  {
   "cell_type": "code",
   "execution_count": 149,
   "id": "99358ca5-ce0c-4a4b-a0dc-4dbe4e395194",
   "metadata": {},
   "outputs": [
    {
     "data": {
      "text/plain": [
       "count    3238.000000\n",
       "mean      115.330075\n",
       "std        48.386654\n",
       "min        22.059600\n",
       "25%        80.014950\n",
       "50%       108.006300\n",
       "75%       141.627300\n",
       "max       389.831400\n",
       "Name: APM, dtype: float64"
      ]
     },
     "execution_count": 149,
     "metadata": {},
     "output_type": "execute_result"
    }
   ],
   "source": [
    "# identificamos el index de la fila con el caracter erroneo\n",
    "indexRaro = df_players[df_players['APM'].str.contains('NA-VALUE')].index[0]\n",
    "\n",
    "# remplazamos el valor por 0\n",
    "df_players.APM = df_players.APM.replace({'NA-VALUE':0})\n",
    "\n",
    "df_players['APM'] = df_players.APM.astype(float) #convertimos la columna en float\n",
    "\n",
    "APM_media = int(df_players['APM'].mean())# media de la columna\n",
    "\n",
    "df_players.loc[indexRaro,'APM'] = APM_media \n",
    "df_players['APM'].describe()"
   ]
  },
  {
   "cell_type": "markdown",
   "id": "ce98c16a-c6b4-4e59-8558-fb4078694173",
   "metadata": {},
   "source": [
    "Ahora para la columna de **SelectByHotkeys** encontramos el mismo valor de NA-VALUE, dado el valor que maneja la columna *timestamp*, consideramos que el remplazo adecuado para estos valores es 0 pues debido a que es la moda de los datos y tambien un valor neutral."
   ]
  },
  {
   "cell_type": "code",
   "execution_count": 150,
   "id": "0e8b0178-f934-4081-b3aa-a4fa03ce1c38",
   "metadata": {},
   "outputs": [
    {
     "data": {
      "text/plain": [
       "0.0             15\n",
       "NA-VALUE         2\n",
       "0.0027815285     2\n",
       "0.0031194655     2\n",
       "Name: SelectByHotkeys, dtype: int64"
      ]
     },
     "execution_count": 150,
     "metadata": {},
     "output_type": "execute_result"
    }
   ],
   "source": [
    "df_players['SelectByHotkeys'].value_counts()[0:4] #podemos inferir la moda de la columna"
   ]
  },
  {
   "cell_type": "code",
   "execution_count": 151,
   "id": "3d440b18-bc09-405d-ad29-9087674c2c92",
   "metadata": {},
   "outputs": [
    {
     "data": {
      "text/plain": [
       "count    3238.000000\n",
       "mean        0.004071\n",
       "std         0.004758\n",
       "min         0.000000\n",
       "25%         0.001256\n",
       "50%         0.002480\n",
       "75%         0.004984\n",
       "max         0.043088\n",
       "Name: SelectByHotkeys, dtype: float64"
      ]
     },
     "execution_count": 151,
     "metadata": {},
     "output_type": "execute_result"
    }
   ],
   "source": [
    "# remplazamos el valor por 0\n",
    "df_players.SelectByHotkeys = df_players.SelectByHotkeys.replace({'NA-VALUE':0})\n",
    "df_players['SelectByHotkeys'] = df_players.SelectByHotkeys.astype(float) #convertimos la columna en float\n",
    "df_players['SelectByHotkeys'].describe()"
   ]
  },
  {
   "cell_type": "markdown",
   "id": "a15730fb-778f-4484-8995-f609d297be45",
   "metadata": {},
   "source": [
    "Ahora para la columna de **AssignToHotkeys** encontramos el mismo valor de NA-VALUE, entonces lo cambiaremos por 0 igual que la columna anterior, debido a la moda y su valor neutral."
   ]
  },
  {
   "cell_type": "code",
   "execution_count": 152,
   "id": "4855b822-c305-4218-8808-8c3c0debb15e",
   "metadata": {},
   "outputs": [
    {
     "data": {
      "text/plain": [
       "count    3238.000000\n",
       "mean        0.000367\n",
       "std         0.000211\n",
       "min         0.000000\n",
       "25%         0.000204\n",
       "50%         0.000351\n",
       "75%         0.000495\n",
       "max         0.001648\n",
       "Name: AssignToHotkeys, dtype: float64"
      ]
     },
     "execution_count": 152,
     "metadata": {},
     "output_type": "execute_result"
    }
   ],
   "source": [
    "# remplazamos el valor por 0\n",
    "df_players.AssignToHotkeys = df_players.AssignToHotkeys.replace({'NA-VALUE':0})\n",
    "df_players['AssignToHotkeys'] = df_players.AssignToHotkeys.astype(float) #convertimos la columna en float\n",
    "df_players['AssignToHotkeys'].describe()"
   ]
  },
  {
   "cell_type": "markdown",
   "id": "2f906e56-fbf3-44dc-aca0-b67900a6f9f0",
   "metadata": {},
   "source": [
    "La columna de **UniqueHotkeys** encontramos el mismo valor de NA-VALUE, entonces lo cambiaremos por la moda de la columna"
   ]
  },
  {
   "cell_type": "code",
   "execution_count": 153,
   "id": "10cc11f3-0e22-40f6-a802-5efd3e61e96e",
   "metadata": {},
   "outputs": [
    {
     "data": {
      "text/plain": [
       "count    3238.000000\n",
       "mean        4.342804\n",
       "std         2.342835\n",
       "min         0.000000\n",
       "25%         3.000000\n",
       "50%         4.000000\n",
       "75%         6.000000\n",
       "max        10.000000\n",
       "Name: UniqueHotkeys, dtype: float64"
      ]
     },
     "execution_count": 153,
     "metadata": {},
     "output_type": "execute_result"
    }
   ],
   "source": [
    "# identificamos el index de la fila con el caracter erroneo\n",
    "indexRaro = df_players[df_players['UniqueHotkeys'].str.contains('NA-VALUE')].index[0]\n",
    "\n",
    "# remplazamos el valor por 0\n",
    "df_players.UniqueHotkeys = df_players.UniqueHotkeys.replace({'NA-VALUE':0})\n",
    "\n",
    "df_players['UniqueHotkeys'] = df_players.UniqueHotkeys.astype(float) #convertimos la columna en float\n",
    "\n",
    "UniqueHotkeys_moda = int(df_players['UniqueHotkeys'].mode()[0])# moda de la columna\n",
    "\n",
    "df_players.loc[indexRaro,'UniqueHotkeys'] = UniqueHotkeys_moda \n",
    "df_players['UniqueHotkeys'].describe()"
   ]
  },
  {
   "cell_type": "markdown",
   "id": "2903f451-c550-4ad0-94e9-6780361dd337",
   "metadata": {},
   "source": [
    "La columna de **MinimapAttacks** encontramos el mismo valor de NA-VALUE, entonces lo cambiaremos por la moda de la columna."
   ]
  },
  {
   "cell_type": "code",
   "execution_count": 154,
   "id": "009bae37-4bcc-47a3-a29f-3b5f31e7e19c",
   "metadata": {},
   "outputs": [
    {
     "data": {
      "text/plain": [
       "0.0                     842\n",
       "1.33226751931788e-05      3\n",
       "0.0001019695              2\n",
       "6.88847558035407e-05      2\n",
       "Name: MinimapAttacks, dtype: int64"
      ]
     },
     "execution_count": 154,
     "metadata": {},
     "output_type": "execute_result"
    }
   ],
   "source": [
    "df_players['MinimapAttacks'].value_counts()[0:4] #podemos inferir la moda de la columna"
   ]
  },
  {
   "cell_type": "code",
   "execution_count": 155,
   "id": "684ba9c7-e26e-48ab-b399-10fc8c5da08e",
   "metadata": {},
   "outputs": [
    {
     "data": {
      "text/plain": [
       "count    3238.000000\n",
       "mean        0.260132\n",
       "std        14.796998\n",
       "min         0.000000\n",
       "25%         0.000000\n",
       "50%         0.000040\n",
       "75%         0.000117\n",
       "max       842.000000\n",
       "Name: MinimapAttacks, dtype: float64"
      ]
     },
     "execution_count": 155,
     "metadata": {},
     "output_type": "execute_result"
    }
   ],
   "source": [
    "moda_MinimapAttacks = df_players['MinimapAttacks'].value_counts()[0]\n",
    "df_players.MinimapAttacks = df_players.MinimapAttacks.replace({'NA-VALUE':moda_MinimapAttacks})\n",
    "\n",
    "df_players['MinimapAttacks'] = df_players.MinimapAttacks.astype(float) #convertimos la columna en float\n",
    "\n",
    "df_players['MinimapAttacks'].describe()"
   ]
  },
  {
   "cell_type": "markdown",
   "id": "6eef2b22-8fec-4abd-a588-1a0ded5542bd",
   "metadata": {},
   "source": [
    "La columna de **MinimapRightClicks** encontramos el mismo valor de NA-VALUE, entonces lo cambiaremos por la moda de la columna."
   ]
  },
  {
   "cell_type": "code",
   "execution_count": 157,
   "id": "cddeba7e-6d01-40a8-b1aa-d0df8dda27cf",
   "metadata": {},
   "outputs": [
    {
     "data": {
      "text/plain": [
       "0.0                     69\n",
       "7.33783387144115e-05     2\n",
       "0.0002332452             2\n",
       "9.62031811185223e-05     2\n",
       "Name: MinimapRightClicks, dtype: int64"
      ]
     },
     "execution_count": 157,
     "metadata": {},
     "output_type": "execute_result"
    }
   ],
   "source": [
    "df_players['MinimapRightClicks'].value_counts()[0:4] #podemos inferir la moda de la columna"
   ]
  },
  {
   "cell_type": "code",
   "execution_count": 158,
   "id": "84670c3a-cd56-430c-afa8-d5c4c386047c",
   "metadata": {},
   "outputs": [
    {
     "data": {
      "text/plain": [
       "count    3238.000000\n",
       "mean        0.043004\n",
       "std         1.714574\n",
       "min         0.000000\n",
       "25%         0.000141\n",
       "50%         0.000282\n",
       "75%         0.000513\n",
       "max        69.000000\n",
       "Name: MinimapRightClicks, dtype: float64"
      ]
     },
     "execution_count": 158,
     "metadata": {},
     "output_type": "execute_result"
    }
   ],
   "source": [
    "moda_MinimapRightClicks = df_players['MinimapRightClicks'].value_counts()[0]\n",
    "df_players.MinimapRightClicks = df_players.MinimapRightClicks.replace({'NA-VALUE':moda_MinimapRightClicks})\n",
    "\n",
    "df_players['MinimapRightClicks'] = df_players.MinimapRightClicks.astype(float) #convertimos la columna en float\n",
    "\n",
    "df_players['MinimapRightClicks'].describe()"
   ]
  },
  {
   "cell_type": "markdown",
   "id": "ede86e53-85ec-4045-a441-f279cb983ebb",
   "metadata": {},
   "source": [
    "La columna de **GapBetweenPACs** encontramos el mismo valor de NA-VALUE, entonces lo cambiaremos por la media de la columna."
   ]
  },
  {
   "cell_type": "code",
   "execution_count": 173,
   "id": "527d37f2-a075-428f-b849-f826029a2d38",
   "metadata": {},
   "outputs": [
    {
     "data": {
      "text/html": [
       "<div>\n",
       "<style scoped>\n",
       "    .dataframe tbody tr th:only-of-type {\n",
       "        vertical-align: middle;\n",
       "    }\n",
       "\n",
       "    .dataframe tbody tr th {\n",
       "        vertical-align: top;\n",
       "    }\n",
       "\n",
       "    .dataframe thead th {\n",
       "        text-align: right;\n",
       "    }\n",
       "</style>\n",
       "<table border=\"1\" class=\"dataframe\">\n",
       "  <thead>\n",
       "    <tr style=\"text-align: right;\">\n",
       "      <th></th>\n",
       "      <th>LeagueIndex</th>\n",
       "      <th>Age</th>\n",
       "      <th>HoursPerWeek</th>\n",
       "      <th>TotalHours</th>\n",
       "      <th>APM</th>\n",
       "      <th>SelectByHotkeys</th>\n",
       "      <th>AssignToHotkeys</th>\n",
       "      <th>UniqueHotkeys</th>\n",
       "      <th>MinimapAttacks</th>\n",
       "      <th>MinimapRightClicks</th>\n",
       "      <th>NumberOfPACs</th>\n",
       "      <th>GapBetweenPACs</th>\n",
       "      <th>ActionLatency</th>\n",
       "      <th>ActionsInPAC</th>\n",
       "      <th>TotalMapExplored</th>\n",
       "      <th>WorkersMade</th>\n",
       "      <th>UniqueUnitsMade</th>\n",
       "      <th>ComplexUnitsMade</th>\n",
       "      <th>ComplexAbilitiesUsed</th>\n",
       "    </tr>\n",
       "  </thead>\n",
       "  <tbody>\n",
       "    <tr>\n",
       "      <th>60</th>\n",
       "      <td>3.808326</td>\n",
       "      <td>24</td>\n",
       "      <td>10</td>\n",
       "      <td>200</td>\n",
       "      <td>87.1620</td>\n",
       "      <td>0.000399</td>\n",
       "      <td>0.000066</td>\n",
       "      <td>1.0</td>\n",
       "      <td>0.000387</td>\n",
       "      <td>0.000875</td>\n",
       "      <td>0.002635</td>\n",
       "      <td>NA-VALUE</td>\n",
       "      <td>60.0168</td>\n",
       "      <td>6.1975</td>\n",
       "      <td>21</td>\n",
       "      <td>0.001118</td>\n",
       "      <td>7</td>\n",
       "      <td>0.0</td>\n",
       "      <td>3.3212e-05</td>\n",
       "    </tr>\n",
       "    <tr>\n",
       "      <th>2666</th>\n",
       "      <td>6.483196</td>\n",
       "      <td>16</td>\n",
       "      <td>42</td>\n",
       "      <td>900</td>\n",
       "      <td>137.5206</td>\n",
       "      <td>0.008748</td>\n",
       "      <td>0.000715</td>\n",
       "      <td>5.0</td>\n",
       "      <td>0.000110</td>\n",
       "      <td>0.000092</td>\n",
       "      <td>0.003943</td>\n",
       "      <td>NA-VALUE</td>\n",
       "      <td>58.1767</td>\n",
       "      <td>4.3395</td>\n",
       "      <td>12</td>\n",
       "      <td>0.000935</td>\n",
       "      <td>3</td>\n",
       "      <td>0.0</td>\n",
       "      <td>0.0</td>\n",
       "    </tr>\n",
       "  </tbody>\n",
       "</table>\n",
       "</div>"
      ],
      "text/plain": [
       "      LeagueIndex  Age  HoursPerWeek  TotalHours       APM  SelectByHotkeys  \\\n",
       "60       3.808326   24            10         200   87.1620         0.000399   \n",
       "2666     6.483196   16            42         900  137.5206         0.008748   \n",
       "\n",
       "      AssignToHotkeys  UniqueHotkeys  MinimapAttacks  MinimapRightClicks  \\\n",
       "60           0.000066            1.0        0.000387            0.000875   \n",
       "2666         0.000715            5.0        0.000110            0.000092   \n",
       "\n",
       "      NumberOfPACs GapBetweenPACs ActionLatency  ActionsInPAC  \\\n",
       "60        0.002635       NA-VALUE       60.0168        6.1975   \n",
       "2666      0.003943       NA-VALUE       58.1767        4.3395   \n",
       "\n",
       "     TotalMapExplored  WorkersMade UniqueUnitsMade ComplexUnitsMade  \\\n",
       "60                 21     0.001118               7              0.0   \n",
       "2666               12     0.000935               3              0.0   \n",
       "\n",
       "     ComplexAbilitiesUsed  \n",
       "60             3.3212e-05  \n",
       "2666                  0.0  "
      ]
     },
     "execution_count": 173,
     "metadata": {},
     "output_type": "execute_result"
    }
   ],
   "source": [
    "df_players[df_players['GapBetweenPACs'].str.contains('NA-VALUE')] #filas con el valor erroneo"
   ]
  },
  {
   "cell_type": "code",
   "execution_count": 174,
   "id": "bcc14329-3e22-4c32-aebd-d44e8572ab07",
   "metadata": {},
   "outputs": [
    {
     "data": {
      "text/plain": [
       "count    3238.000000\n",
       "mean       40.634149\n",
       "std        17.139080\n",
       "min         6.666700\n",
       "25%        29.216025\n",
       "50%        36.986950\n",
       "75%        48.444400\n",
       "max       237.142900\n",
       "Name: GapBetweenPACs, dtype: float64"
      ]
     },
     "execution_count": 174,
     "metadata": {},
     "output_type": "execute_result"
    }
   ],
   "source": [
    "# indexs con el valor rar\n",
    "index1, index2  =df_players[df_players['GapBetweenPACs'].str.contains('NA-VALUE')].index[0] , df_players[df_players['GapBetweenPACs'].str.contains('NA-VALUE')].index[1]\n",
    "\n",
    "# remplazamos el valor por 0\n",
    "df_players.GapBetweenPACs = df_players.GapBetweenPACs.replace({'NA-VALUE':0})\n",
    "\n",
    "df_players['GapBetweenPACs'] = df_players.GapBetweenPACs.astype(float) #convertimos la columna en float\n",
    "\n",
    "GapBetweenPACs_media = int(df_players['GapBetweenPACs'].mean())# media de la columna\n",
    "\n",
    "\n",
    "df_players.loc[index1,'GapBetweenPACs'] = GapBetweenPACs_media \n",
    "df_players.loc[index2,'GapBetweenPACs'] = GapBetweenPACs_media \n",
    "\n",
    "df_players['GapBetweenPACs'].describe()"
   ]
  },
  {
   "cell_type": "markdown",
   "id": "23cc5b94-dc63-4a2e-a69e-87b249433ae0",
   "metadata": {},
   "source": [
    "La columna de **ActionLatency** encontramos el mismo valor de NA-VALUE, entonces lo cambiaremos por la media de la columna."
   ]
  },
  {
   "cell_type": "code",
   "execution_count": 177,
   "id": "af712be3-fd96-4fcd-a12d-f7cb5f7cc320",
   "metadata": {},
   "outputs": [
    {
     "data": {
      "text/plain": [
       "count    3238.000000\n",
       "mean       64.052135\n",
       "std        19.122442\n",
       "min        24.632600\n",
       "25%        50.629750\n",
       "50%        61.124800\n",
       "75%        73.800825\n",
       "max       176.372100\n",
       "Name: ActionLatency, dtype: float64"
      ]
     },
     "execution_count": 177,
     "metadata": {},
     "output_type": "execute_result"
    }
   ],
   "source": [
    "# identificamos el index de la fila con el caracter erroneo\n",
    "indexRaro = df_players[df_players['ActionLatency'].str.contains('NA-VALUE')].index[0]\n",
    "\n",
    "# remplazamos el valor por 0\n",
    "df_players.ActionLatency = df_players.ActionLatency.replace({'NA-VALUE':0})\n",
    "\n",
    "df_players['ActionLatency'] = df_players.ActionLatency.astype(float) #convertimos la columna en float\n",
    "\n",
    "ActionLatency_media = int(df_players['ActionLatency'].mean())# media de la columna\n",
    "\n",
    "df_players.loc[indexRaro,'ActionLatency'] = ActionLatency_media \n",
    "df_players['ActionLatency'].describe()"
   ]
  },
  {
   "cell_type": "markdown",
   "id": "f7744e89-c539-44ce-97a5-b5563fcfbf86",
   "metadata": {},
   "source": [
    "La columna de **TotalMapExplored** encontramos el mismo valor de NA-VALUE, entonces lo cambiaremos por la media de la columna."
   ]
  },
  {
   "cell_type": "code",
   "execution_count": 180,
   "id": "fa7b2f35-b476-481c-a96a-568bf9e79213",
   "metadata": {},
   "outputs": [
    {
     "data": {
      "text/plain": [
       "count    3238.000000\n",
       "mean       22.218653\n",
       "std         7.462960\n",
       "min         5.000000\n",
       "25%        17.000000\n",
       "50%        22.000000\n",
       "75%        27.000000\n",
       "max        58.000000\n",
       "Name: TotalMapExplored, dtype: float64"
      ]
     },
     "execution_count": 180,
     "metadata": {},
     "output_type": "execute_result"
    }
   ],
   "source": [
    "# indexs con el valor rar\n",
    "index1, index2  =df_players[df_players['TotalMapExplored'].str.contains('NA-VALUE')].index[0] , df_players[df_players['TotalMapExplored'].str.contains('NA-VALUE')].index[1]\n",
    "\n",
    "# remplazamos el valor por 0\n",
    "df_players.TotalMapExplored = df_players.TotalMapExplored.replace({'NA-VALUE':0})\n",
    "\n",
    "df_players['TotalMapExplored'] = df_players.TotalMapExplored.astype(float) #convertimos la columna en float\n",
    "\n",
    "TotalMapExplored_media = int(df_players['TotalMapExplored'].mean())# media de la columna\n",
    "\n",
    "\n",
    "df_players.loc[index1,'TotalMapExplored'] = TotalMapExplored_media \n",
    "df_players.loc[index2,'TotalMapExplored'] = TotalMapExplored_media \n",
    "\n",
    "df_players['TotalMapExplored'].describe()"
   ]
  },
  {
   "cell_type": "markdown",
   "id": "6819dfa3-a4f4-482e-a6c5-e6c8120a1156",
   "metadata": {},
   "source": [
    "La columna de **UniqueUnitsMade** encontramos el mismo valor de NA-VALUE, entonces lo cambiaremos por la moda de la columna."
   ]
  },
  {
   "cell_type": "code",
   "execution_count": 183,
   "id": "52435a8c-85d3-4591-9481-2ad80aebc0ff",
   "metadata": {},
   "outputs": [
    {
     "data": {
      "text/plain": [
       "6    727\n",
       "7    688\n",
       "5    470\n",
       "8    431\n",
       "Name: UniqueUnitsMade, dtype: int64"
      ]
     },
     "execution_count": 183,
     "metadata": {},
     "output_type": "execute_result"
    }
   ],
   "source": [
    "df_players['UniqueUnitsMade'].value_counts()[0:4] #podemos inferir la moda de la columna"
   ]
  },
  {
   "cell_type": "code",
   "execution_count": 184,
   "id": "1943679b-3977-402a-95f4-a4abd87e677d",
   "metadata": {},
   "outputs": [
    {
     "data": {
      "text/plain": [
       "count    3238.000000\n",
       "mean        7.008956\n",
       "std        17.998668\n",
       "min         2.000000\n",
       "25%         5.000000\n",
       "50%         6.000000\n",
       "75%         8.000000\n",
       "max       727.000000\n",
       "Name: UniqueUnitsMade, dtype: float64"
      ]
     },
     "execution_count": 184,
     "metadata": {},
     "output_type": "execute_result"
    }
   ],
   "source": [
    "moda_UniqueUnitsMade = df_players['UniqueUnitsMade'].value_counts()[0]\n",
    "df_players.UniqueUnitsMade = df_players.UniqueUnitsMade.replace({'NA-VALUE':moda_UniqueUnitsMade})\n",
    "\n",
    "df_players['UniqueUnitsMade'] = df_players.UniqueUnitsMade.astype(float) #convertimos la columna en float\n",
    "\n",
    "df_players['UniqueUnitsMade'].describe()"
   ]
  },
  {
   "cell_type": "markdown",
   "id": "15644b7e-5ab6-4406-a38d-883f4244dbb5",
   "metadata": {},
   "source": [
    "La columna de **ComplexUnitsMade** encontramos el mismo valor de NA-VALUE, entonces lo cambiaremos por la moda de la columna."
   ]
  },
  {
   "cell_type": "code",
   "execution_count": 187,
   "id": "04981d3c-63c1-446a-b09f-3af220a733da",
   "metadata": {},
   "outputs": [
    {
     "data": {
      "text/plain": [
       "0.0                     2153\n",
       "4.48028673835125e-05       2\n",
       "0.0002571415               2\n",
       "0.0003315807               2\n",
       "Name: ComplexUnitsMade, dtype: int64"
      ]
     },
     "execution_count": 187,
     "metadata": {},
     "output_type": "execute_result"
    }
   ],
   "source": [
    "df_players['ComplexUnitsMade'].value_counts()[0:4] #podemos inferir la moda de la columna"
   ]
  },
  {
   "cell_type": "code",
   "execution_count": 188,
   "id": "eb36042e-681c-44cc-a515-b21128ec8c08",
   "metadata": {},
   "outputs": [
    {
     "data": {
      "text/plain": [
       "count    3238.000000\n",
       "mean        0.664978\n",
       "std        37.836033\n",
       "min         0.000000\n",
       "25%         0.000000\n",
       "50%         0.000000\n",
       "75%         0.000090\n",
       "max      2153.000000\n",
       "Name: ComplexUnitsMade, dtype: float64"
      ]
     },
     "execution_count": 188,
     "metadata": {},
     "output_type": "execute_result"
    }
   ],
   "source": [
    "moda_ComplexUnitsMade = df_players['ComplexUnitsMade'].value_counts()[0]\n",
    "df_players.ComplexUnitsMade = df_players.ComplexUnitsMade.replace({'NA-VALUE':moda_ComplexUnitsMade})\n",
    "\n",
    "df_players['ComplexUnitsMade'] = df_players.ComplexUnitsMade.astype(float) #convertimos la columna en float\n",
    "\n",
    "df_players['ComplexUnitsMade'].describe()"
   ]
  },
  {
   "cell_type": "markdown",
   "id": "4eca569a-ec6c-4952-b750-662cda1b2e9e",
   "metadata": {},
   "source": [
    "La columna de **ComplexAbilitiesUsed** encontramos el mismo valor de NA-VALUE, entonces lo cambiaremos por la moda de la columna."
   ]
  },
  {
   "cell_type": "code",
   "execution_count": 190,
   "id": "d631eb8d-3137-48f6-ae4a-8fd8de6d0547",
   "metadata": {},
   "outputs": [
    {
     "data": {
      "text/plain": [
       "0.0           1467\n",
       "NA-VALUE         3\n",
       "0.00014976       2\n",
       "0.00017608       2\n",
       "Name: ComplexAbilitiesUsed, dtype: int64"
      ]
     },
     "execution_count": 190,
     "metadata": {},
     "output_type": "execute_result"
    }
   ],
   "source": [
    "df_players['ComplexAbilitiesUsed'].value_counts()[0:4] #podemos inferir la moda de la columna"
   ]
  },
  {
   "cell_type": "code",
   "execution_count": 191,
   "id": "f8de2546-cbce-41b0-8784-bb0aad34c789",
   "metadata": {},
   "outputs": [
    {
     "data": {
      "text/plain": [
       "count    3238.000000\n",
       "mean        1.359317\n",
       "std        44.639371\n",
       "min         0.000000\n",
       "25%         0.000000\n",
       "50%         0.000022\n",
       "75%         0.000187\n",
       "max      1467.000000\n",
       "Name: ComplexAbilitiesUsed, dtype: float64"
      ]
     },
     "execution_count": 191,
     "metadata": {},
     "output_type": "execute_result"
    }
   ],
   "source": [
    "moda_ComplexAbilitiesUsed = df_players['ComplexAbilitiesUsed'].value_counts()[0]\n",
    "df_players.ComplexAbilitiesUsed = df_players.ComplexAbilitiesUsed.replace({'NA-VALUE':moda_ComplexAbilitiesUsed})\n",
    "\n",
    "df_players['ComplexAbilitiesUsed'] = df_players.ComplexAbilitiesUsed.astype(float) #convertimos la columna en float\n",
    "\n",
    "df_players['ComplexAbilitiesUsed'].describe()"
   ]
  },
  {
   "cell_type": "markdown",
   "id": "1cefedbd-49b8-4bc0-8710-537a1feaed10",
   "metadata": {},
   "source": [
    "En la columna de **LeagueIndex** los valores deberian estar entre 0 y 10. consideramos que los valores mayores de 10 deben tener un tope maximo de 10."
   ]
  },
  {
   "cell_type": "code",
   "execution_count": 200,
   "id": "e0a02fd3-50f2-4074-9078-c0f70d088ee5",
   "metadata": {},
   "outputs": [],
   "source": [
    "df_players.LeagueIndex = df_players.LeagueIndex.replace({20:10})"
   ]
  },
  {
   "cell_type": "code",
   "execution_count": 203,
   "id": "1d8fe406-aeab-4ef5-91b3-064aa3d41176",
   "metadata": {},
   "outputs": [
    {
     "data": {
      "text/plain": [
       "10.000000    96\n",
       "8.660033      1\n",
       "6.399890      1\n",
       "5.438155      1\n",
       "2.738713      1\n",
       "             ..\n",
       "5.062099      1\n",
       "5.194530      1\n",
       "2.197375      1\n",
       "5.881296      1\n",
       "5.351187      1\n",
       "Name: LeagueIndex, Length: 3143, dtype: int64"
      ]
     },
     "execution_count": 203,
     "metadata": {},
     "output_type": "execute_result"
    }
   ],
   "source": [
    "df_players['LeagueIndex'].value_counts()"
   ]
  },
  {
   "cell_type": "markdown",
   "id": "599865bc-3508-4d5d-a40c-cffa44db9b6b",
   "metadata": {},
   "source": [
    "Resumen de los datos"
   ]
  },
  {
   "cell_type": "code",
   "execution_count": 204,
   "id": "5550cade-043a-4364-82fe-dcb460bfbaee",
   "metadata": {},
   "outputs": [
    {
     "data": {
      "text/html": [
       "<div>\n",
       "<style scoped>\n",
       "    .dataframe tbody tr th:only-of-type {\n",
       "        vertical-align: middle;\n",
       "    }\n",
       "\n",
       "    .dataframe tbody tr th {\n",
       "        vertical-align: top;\n",
       "    }\n",
       "\n",
       "    .dataframe thead th {\n",
       "        text-align: right;\n",
       "    }\n",
       "</style>\n",
       "<table border=\"1\" class=\"dataframe\">\n",
       "  <thead>\n",
       "    <tr style=\"text-align: right;\">\n",
       "      <th></th>\n",
       "      <th>LeagueIndex</th>\n",
       "      <th>Age</th>\n",
       "      <th>HoursPerWeek</th>\n",
       "      <th>TotalHours</th>\n",
       "      <th>APM</th>\n",
       "      <th>SelectByHotkeys</th>\n",
       "      <th>AssignToHotkeys</th>\n",
       "      <th>UniqueHotkeys</th>\n",
       "      <th>MinimapAttacks</th>\n",
       "      <th>MinimapRightClicks</th>\n",
       "      <th>NumberOfPACs</th>\n",
       "      <th>GapBetweenPACs</th>\n",
       "      <th>ActionLatency</th>\n",
       "      <th>ActionsInPAC</th>\n",
       "      <th>TotalMapExplored</th>\n",
       "      <th>WorkersMade</th>\n",
       "      <th>UniqueUnitsMade</th>\n",
       "      <th>ComplexUnitsMade</th>\n",
       "      <th>ComplexAbilitiesUsed</th>\n",
       "    </tr>\n",
       "  </thead>\n",
       "  <tbody>\n",
       "    <tr>\n",
       "      <th>count</th>\n",
       "      <td>3238.000000</td>\n",
       "      <td>3238.000000</td>\n",
       "      <td>3238.000000</td>\n",
       "      <td>3238.000000</td>\n",
       "      <td>3238.000000</td>\n",
       "      <td>3238.000000</td>\n",
       "      <td>3238.000000</td>\n",
       "      <td>3238.000000</td>\n",
       "      <td>3238.000000</td>\n",
       "      <td>3238.000000</td>\n",
       "      <td>3238.000000</td>\n",
       "      <td>3238.000000</td>\n",
       "      <td>3238.000000</td>\n",
       "      <td>3238.000000</td>\n",
       "      <td>3238.000000</td>\n",
       "      <td>3238.000000</td>\n",
       "      <td>3238.000000</td>\n",
       "      <td>3238.000000</td>\n",
       "      <td>3238.000000</td>\n",
       "    </tr>\n",
       "    <tr>\n",
       "      <th>mean</th>\n",
       "      <td>5.573372</td>\n",
       "      <td>21.664299</td>\n",
       "      <td>15.977455</td>\n",
       "      <td>974.513280</td>\n",
       "      <td>115.330075</td>\n",
       "      <td>0.004071</td>\n",
       "      <td>0.000367</td>\n",
       "      <td>4.342804</td>\n",
       "      <td>0.260132</td>\n",
       "      <td>0.043004</td>\n",
       "      <td>0.003443</td>\n",
       "      <td>40.634149</td>\n",
       "      <td>64.052135</td>\n",
       "      <td>5.277123</td>\n",
       "      <td>22.218653</td>\n",
       "      <td>0.001037</td>\n",
       "      <td>7.008956</td>\n",
       "      <td>0.664978</td>\n",
       "      <td>1.359317</td>\n",
       "    </tr>\n",
       "    <tr>\n",
       "      <th>std</th>\n",
       "      <td>2.058039</td>\n",
       "      <td>4.234262</td>\n",
       "      <td>12.069915</td>\n",
       "      <td>17583.288892</td>\n",
       "      <td>48.386654</td>\n",
       "      <td>0.004758</td>\n",
       "      <td>0.000211</td>\n",
       "      <td>2.342835</td>\n",
       "      <td>14.796998</td>\n",
       "      <td>1.714574</td>\n",
       "      <td>0.000971</td>\n",
       "      <td>17.139080</td>\n",
       "      <td>19.122442</td>\n",
       "      <td>1.507255</td>\n",
       "      <td>7.462960</td>\n",
       "      <td>0.000525</td>\n",
       "      <td>17.998668</td>\n",
       "      <td>37.836033</td>\n",
       "      <td>44.639371</td>\n",
       "    </tr>\n",
       "    <tr>\n",
       "      <th>min</th>\n",
       "      <td>0.000000</td>\n",
       "      <td>16.000000</td>\n",
       "      <td>0.000000</td>\n",
       "      <td>3.000000</td>\n",
       "      <td>22.059600</td>\n",
       "      <td>0.000000</td>\n",
       "      <td>0.000000</td>\n",
       "      <td>0.000000</td>\n",
       "      <td>0.000000</td>\n",
       "      <td>0.000000</td>\n",
       "      <td>0.000679</td>\n",
       "      <td>6.666700</td>\n",
       "      <td>24.632600</td>\n",
       "      <td>2.038900</td>\n",
       "      <td>5.000000</td>\n",
       "      <td>0.000077</td>\n",
       "      <td>2.000000</td>\n",
       "      <td>0.000000</td>\n",
       "      <td>0.000000</td>\n",
       "    </tr>\n",
       "    <tr>\n",
       "      <th>25%</th>\n",
       "      <td>4.123874</td>\n",
       "      <td>19.000000</td>\n",
       "      <td>8.000000</td>\n",
       "      <td>300.000000</td>\n",
       "      <td>80.014950</td>\n",
       "      <td>0.001256</td>\n",
       "      <td>0.000204</td>\n",
       "      <td>3.000000</td>\n",
       "      <td>0.000000</td>\n",
       "      <td>0.000141</td>\n",
       "      <td>0.002751</td>\n",
       "      <td>29.216025</td>\n",
       "      <td>50.629750</td>\n",
       "      <td>4.264100</td>\n",
       "      <td>17.000000</td>\n",
       "      <td>0.000685</td>\n",
       "      <td>5.000000</td>\n",
       "      <td>0.000000</td>\n",
       "      <td>0.000000</td>\n",
       "    </tr>\n",
       "    <tr>\n",
       "      <th>50%</th>\n",
       "      <td>5.680387</td>\n",
       "      <td>21.000000</td>\n",
       "      <td>12.000000</td>\n",
       "      <td>500.000000</td>\n",
       "      <td>108.006300</td>\n",
       "      <td>0.002480</td>\n",
       "      <td>0.000351</td>\n",
       "      <td>4.000000</td>\n",
       "      <td>0.000040</td>\n",
       "      <td>0.000282</td>\n",
       "      <td>0.003386</td>\n",
       "      <td>36.986950</td>\n",
       "      <td>61.124800</td>\n",
       "      <td>5.093550</td>\n",
       "      <td>22.000000</td>\n",
       "      <td>0.000910</td>\n",
       "      <td>6.000000</td>\n",
       "      <td>0.000000</td>\n",
       "      <td>0.000022</td>\n",
       "    </tr>\n",
       "    <tr>\n",
       "      <th>75%</th>\n",
       "      <td>7.082546</td>\n",
       "      <td>24.000000</td>\n",
       "      <td>20.000000</td>\n",
       "      <td>800.000000</td>\n",
       "      <td>141.627300</td>\n",
       "      <td>0.004984</td>\n",
       "      <td>0.000495</td>\n",
       "      <td>6.000000</td>\n",
       "      <td>0.000117</td>\n",
       "      <td>0.000513</td>\n",
       "      <td>0.004017</td>\n",
       "      <td>48.444400</td>\n",
       "      <td>73.800825</td>\n",
       "      <td>6.035900</td>\n",
       "      <td>27.000000</td>\n",
       "      <td>0.001268</td>\n",
       "      <td>8.000000</td>\n",
       "      <td>0.000090</td>\n",
       "      <td>0.000187</td>\n",
       "    </tr>\n",
       "    <tr>\n",
       "      <th>max</th>\n",
       "      <td>10.000000</td>\n",
       "      <td>44.000000</td>\n",
       "      <td>168.000000</td>\n",
       "      <td>1000000.000000</td>\n",
       "      <td>389.831400</td>\n",
       "      <td>0.043088</td>\n",
       "      <td>0.001648</td>\n",
       "      <td>10.000000</td>\n",
       "      <td>842.000000</td>\n",
       "      <td>69.000000</td>\n",
       "      <td>0.007971</td>\n",
       "      <td>237.142900</td>\n",
       "      <td>176.372100</td>\n",
       "      <td>18.558100</td>\n",
       "      <td>58.000000</td>\n",
       "      <td>0.005149</td>\n",
       "      <td>727.000000</td>\n",
       "      <td>2153.000000</td>\n",
       "      <td>1467.000000</td>\n",
       "    </tr>\n",
       "  </tbody>\n",
       "</table>\n",
       "</div>"
      ],
      "text/plain": [
       "       LeagueIndex          Age  HoursPerWeek      TotalHours          APM  \\\n",
       "count  3238.000000  3238.000000   3238.000000     3238.000000  3238.000000   \n",
       "mean      5.573372    21.664299     15.977455      974.513280   115.330075   \n",
       "std       2.058039     4.234262     12.069915    17583.288892    48.386654   \n",
       "min       0.000000    16.000000      0.000000        3.000000    22.059600   \n",
       "25%       4.123874    19.000000      8.000000      300.000000    80.014950   \n",
       "50%       5.680387    21.000000     12.000000      500.000000   108.006300   \n",
       "75%       7.082546    24.000000     20.000000      800.000000   141.627300   \n",
       "max      10.000000    44.000000    168.000000  1000000.000000   389.831400   \n",
       "\n",
       "       SelectByHotkeys  AssignToHotkeys  UniqueHotkeys  MinimapAttacks  \\\n",
       "count      3238.000000      3238.000000    3238.000000     3238.000000   \n",
       "mean          0.004071         0.000367       4.342804        0.260132   \n",
       "std           0.004758         0.000211       2.342835       14.796998   \n",
       "min           0.000000         0.000000       0.000000        0.000000   \n",
       "25%           0.001256         0.000204       3.000000        0.000000   \n",
       "50%           0.002480         0.000351       4.000000        0.000040   \n",
       "75%           0.004984         0.000495       6.000000        0.000117   \n",
       "max           0.043088         0.001648      10.000000      842.000000   \n",
       "\n",
       "       MinimapRightClicks  NumberOfPACs  GapBetweenPACs  ActionLatency  \\\n",
       "count         3238.000000   3238.000000     3238.000000    3238.000000   \n",
       "mean             0.043004      0.003443       40.634149      64.052135   \n",
       "std              1.714574      0.000971       17.139080      19.122442   \n",
       "min              0.000000      0.000679        6.666700      24.632600   \n",
       "25%              0.000141      0.002751       29.216025      50.629750   \n",
       "50%              0.000282      0.003386       36.986950      61.124800   \n",
       "75%              0.000513      0.004017       48.444400      73.800825   \n",
       "max             69.000000      0.007971      237.142900     176.372100   \n",
       "\n",
       "       ActionsInPAC  TotalMapExplored  WorkersMade  UniqueUnitsMade  \\\n",
       "count   3238.000000       3238.000000  3238.000000      3238.000000   \n",
       "mean       5.277123         22.218653     0.001037         7.008956   \n",
       "std        1.507255          7.462960     0.000525        17.998668   \n",
       "min        2.038900          5.000000     0.000077         2.000000   \n",
       "25%        4.264100         17.000000     0.000685         5.000000   \n",
       "50%        5.093550         22.000000     0.000910         6.000000   \n",
       "75%        6.035900         27.000000     0.001268         8.000000   \n",
       "max       18.558100         58.000000     0.005149       727.000000   \n",
       "\n",
       "       ComplexUnitsMade  ComplexAbilitiesUsed  \n",
       "count       3238.000000           3238.000000  \n",
       "mean           0.664978              1.359317  \n",
       "std           37.836033             44.639371  \n",
       "min            0.000000              0.000000  \n",
       "25%            0.000000              0.000000  \n",
       "50%            0.000000              0.000022  \n",
       "75%            0.000090              0.000187  \n",
       "max         2153.000000           1467.000000  "
      ]
     },
     "execution_count": 204,
     "metadata": {},
     "output_type": "execute_result"
    }
   ],
   "source": [
    "df_players.describe()"
   ]
  },
  {
   "cell_type": "code",
   "execution_count": 205,
   "id": "1ff92cb8-0974-4418-aa7f-33139ede8ddf",
   "metadata": {},
   "outputs": [
    {
     "data": {
      "text/plain": [
       "LeagueIndex             float64\n",
       "Age                       int64\n",
       "HoursPerWeek              int64\n",
       "TotalHours                int64\n",
       "APM                     float64\n",
       "SelectByHotkeys         float64\n",
       "AssignToHotkeys         float64\n",
       "UniqueHotkeys           float64\n",
       "MinimapAttacks          float64\n",
       "MinimapRightClicks      float64\n",
       "NumberOfPACs            float64\n",
       "GapBetweenPACs          float64\n",
       "ActionLatency           float64\n",
       "ActionsInPAC            float64\n",
       "TotalMapExplored        float64\n",
       "WorkersMade             float64\n",
       "UniqueUnitsMade         float64\n",
       "ComplexUnitsMade        float64\n",
       "ComplexAbilitiesUsed    float64\n",
       "dtype: object"
      ]
     },
     "execution_count": 205,
     "metadata": {},
     "output_type": "execute_result"
    }
   ],
   "source": [
    "#tipos finales de los datos\n",
    "df_players.dtypes"
   ]
  },
  {
   "cell_type": "markdown",
   "id": "2d56de0e-4926-4349-b4c0-831c32b7076e",
   "metadata": {},
   "source": [
    "### 2.2. Selección de atributos."
   ]
  },
  {
   "cell_type": "code",
   "execution_count": null,
   "id": "2244ddc9-b777-4405-a5fa-b8cdf9477f17",
   "metadata": {},
   "outputs": [],
   "source": []
  }
 ],
 "metadata": {
  "kernelspec": {
   "display_name": "Python 3",
   "language": "python",
   "name": "python3"
  },
  "language_info": {
   "codemirror_mode": {
    "name": "ipython",
    "version": 3
   },
   "file_extension": ".py",
   "mimetype": "text/x-python",
   "name": "python",
   "nbconvert_exporter": "python",
   "pygments_lexer": "ipython3",
   "version": "3.8.8"
  }
 },
 "nbformat": 4,
 "nbformat_minor": 5
}
